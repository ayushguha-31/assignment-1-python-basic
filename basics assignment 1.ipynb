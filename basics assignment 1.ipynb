{
 "cells": [
  {
   "cell_type": "markdown",
   "id": "16fa2092",
   "metadata": {},
   "source": [
    "1. In the below elements which of them are values or an expression? eg:- values can be\n",
    "integer or string and expressions will be mathematical operators.\n",
    "*\n",
    "&#39;hello&#39;\n",
    "-87.8\n",
    "-\n",
    "/\n",
    "+\n",
    "6"
   ]
  },
  {
   "cell_type": "markdown",
   "id": "cc592c10",
   "metadata": {},
   "source": [
    "* - mathematical operators\n",
    "'hello' - string\n",
    "-87.8 - integer\n",
    "-  -- operator\n",
    "/ - operator\n",
    "+ - operator\n",
    "6 - integer"
   ]
  },
  {
   "cell_type": "markdown",
   "id": "4b7c6d54",
   "metadata": {},
   "source": [
    "What is the difference between string and variable?"
   ]
  },
  {
   "cell_type": "markdown",
   "id": "71d11e9d",
   "metadata": {},
   "source": [
    "variables are symbols that you can use to store data in a program.\n",
    "string is a collection of alphabets , words or other characters and python strings are immutable."
   ]
  },
  {
   "cell_type": "markdown",
   "id": "3ab9973b",
   "metadata": {},
   "source": [
    "What is an expression made up of? What do all expressions do?"
   ]
  },
  {
   "cell_type": "markdown",
   "id": "27234676",
   "metadata": {},
   "source": [
    "An expersion is a construct made up of variables , operators and method invocations which are constructed according to syntax of the language that evaluates to a single value"
   ]
  },
  {
   "cell_type": "markdown",
   "id": "b16f40ca",
   "metadata": {},
   "source": [
    " This assignment statements, like spam = 10. What is the difference between an\n",
    "expression and a statement?"
   ]
  },
  {
   "cell_type": "markdown",
   "id": "4c3b718e",
   "metadata": {},
   "source": [
    "An expression in python is a combination of operators and operands.\n",
    "eg--\n",
    "x=25\n",
    "x=x+10\n",
    "print (x)\n",
    "output = 35\n",
    "Whereas a statement is used for creating variables or for displaying values.\n",
    "eg --\n",
    "a=25    # a statement\n",
    "print(a) # a statement\n",
    "output = 25\n"
   ]
  },
  {
   "cell_type": "markdown",
   "id": "76544c6b",
   "metadata": {},
   "source": [
    "6. After running the following code, what does the variable bacon contain?\n",
    "bacon = 22\n",
    "bacon + 1"
   ]
  },
  {
   "cell_type": "code",
   "execution_count": 4,
   "id": "944665a8",
   "metadata": {},
   "outputs": [
    {
     "data": {
      "text/plain": [
       "23"
      ]
     },
     "execution_count": 4,
     "metadata": {},
     "output_type": "execute_result"
    }
   ],
   "source": [
    "bacon =22\n",
    "bacon + 1\n"
   ]
  },
  {
   "cell_type": "markdown",
   "id": "7c075574",
   "metadata": {},
   "source": [
    "7. What should the values of the following two terms be?\n",
    "&#39;spam&#39; + &#39;spamspam&#39;\n",
    "&#39;spam&#39; * 3"
   ]
  },
  {
   "cell_type": "code",
   "execution_count": 5,
   "id": "dd70100c",
   "metadata": {},
   "outputs": [
    {
     "data": {
      "text/plain": [
       "'spamspamspam'"
      ]
     },
     "execution_count": 5,
     "metadata": {},
     "output_type": "execute_result"
    }
   ],
   "source": [
    "'spam'+'spamspam'"
   ]
  },
  {
   "cell_type": "code",
   "execution_count": 6,
   "id": "894e6b72",
   "metadata": {},
   "outputs": [
    {
     "data": {
      "text/plain": [
       "'spamspamspam'"
      ]
     },
     "execution_count": 6,
     "metadata": {},
     "output_type": "execute_result"
    }
   ],
   "source": [
    "'spam'*3"
   ]
  },
  {
   "cell_type": "markdown",
   "id": "35a4c397",
   "metadata": {},
   "source": [
    "8. Why is eggs a valid variable name while 100 is invalid?"
   ]
  },
  {
   "cell_type": "markdown",
   "id": "90a953bc",
   "metadata": {},
   "source": [
    "variables names should start with alphabets as they are accepted as syntax while variable name starting with numerics will show syntax error\n"
   ]
  },
  {
   "cell_type": "code",
   "execution_count": 7,
   "id": "336d7f44",
   "metadata": {},
   "outputs": [
    {
     "name": "stdout",
     "output_type": "stream",
     "text": [
      "100\n"
     ]
    }
   ],
   "source": [
    "# eg\n",
    "eggs =100\n",
    "print(eggs)"
   ]
  },
  {
   "cell_type": "code",
   "execution_count": 8,
   "id": "c9c89d64",
   "metadata": {},
   "outputs": [
    {
     "ename": "SyntaxError",
     "evalue": "cannot assign to literal (820198929.py, line 2)",
     "output_type": "error",
     "traceback": [
      "\u001b[1;36m  Cell \u001b[1;32mIn [8], line 2\u001b[1;36m\u001b[0m\n\u001b[1;33m    100 =10\u001b[0m\n\u001b[1;37m    ^\u001b[0m\n\u001b[1;31mSyntaxError\u001b[0m\u001b[1;31m:\u001b[0m cannot assign to literal\n"
     ]
    }
   ],
   "source": [
    "# eg\n",
    "100 =10\n",
    "print(100)"
   ]
  },
  {
   "cell_type": "markdown",
   "id": "98aa2e19",
   "metadata": {},
   "source": [
    "9. What three functions can be used to get the integer, floating-point number, or string\n",
    "version of a value?"
   ]
  },
  {
   "cell_type": "markdown",
   "id": "41d5282c",
   "metadata": {},
   "source": [
    "int() , float() and str() function will evaluate to the integer , floating and string version of the value passed to them"
   ]
  },
  {
   "cell_type": "markdown",
   "id": "0b9e0763",
   "metadata": {},
   "source": [
    "10. Why does this expression cause an error? How can you fix it?\n",
    "&#39;I have eaten &#39; + 99 + &#39; burritos.&#39;"
   ]
  },
  {
   "cell_type": "code",
   "execution_count": 9,
   "id": "8f4e3404",
   "metadata": {},
   "outputs": [
    {
     "ename": "TypeError",
     "evalue": "can only concatenate str (not \"int\") to str",
     "output_type": "error",
     "traceback": [
      "\u001b[1;31m---------------------------------------------------------------------------\u001b[0m",
      "\u001b[1;31mTypeError\u001b[0m                                 Traceback (most recent call last)",
      "Cell \u001b[1;32mIn [9], line 1\u001b[0m\n\u001b[1;32m----> 1\u001b[0m \u001b[38;5;124;43m'\u001b[39;49m\u001b[38;5;124;43mI have eaten\u001b[39;49m\u001b[38;5;124;43m'\u001b[39;49m\u001b[38;5;241;43m+\u001b[39;49m\u001b[38;5;241;43m99\u001b[39;49m\u001b[38;5;241m+\u001b[39m\u001b[38;5;124m'\u001b[39m\u001b[38;5;124mburritos\u001b[39m\u001b[38;5;124m'\u001b[39m\n",
      "\u001b[1;31mTypeError\u001b[0m: can only concatenate str (not \"int\") to str"
     ]
    }
   ],
   "source": [
    "'I have eaten'+99+'burritos'"
   ]
  },
  {
   "cell_type": "code",
   "execution_count": 11,
   "id": "526528aa",
   "metadata": {},
   "outputs": [
    {
     "data": {
      "text/plain": [
       "'I have eaten 99 burritos'"
      ]
     },
     "execution_count": 11,
     "metadata": {},
     "output_type": "execute_result"
    }
   ],
   "source": [
    "# method to fix\n",
    "'I have eaten'+' 99 '+'burritos'"
   ]
  },
  {
   "cell_type": "code",
   "execution_count": null,
   "id": "8c5d60d4",
   "metadata": {},
   "outputs": [],
   "source": []
  }
 ],
 "metadata": {
  "kernelspec": {
   "display_name": "Python 3 (ipykernel)",
   "language": "python",
   "name": "python3"
  },
  "language_info": {
   "codemirror_mode": {
    "name": "ipython",
    "version": 3
   },
   "file_extension": ".py",
   "mimetype": "text/x-python",
   "name": "python",
   "nbconvert_exporter": "python",
   "pygments_lexer": "ipython3",
   "version": "3.9.12"
  }
 },
 "nbformat": 4,
 "nbformat_minor": 5
}
